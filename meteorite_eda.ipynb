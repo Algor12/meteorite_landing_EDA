{
 "cells": [
  {
   "cell_type": "markdown",
   "metadata": {},
   "source": [
    "# Exploring Meteorite Dataset from NASA\n",
    "Link to dataset on kaggle: https://www.kaggle.com/datasets/nasa/meteorite-landings\n"
   ]
  },
  {
   "cell_type": "code",
   "execution_count": null,
   "metadata": {},
   "outputs": [],
   "source": [
    "# Import necessary packages for EDA\n",
    "import numpy as np # for linear algebra\n",
    "import pandas as pd # for data processing\n",
    "import matplotlib.pyplot as plt \n",
    "import seaborn as sns \n",
    "import plotly.express as px\n",
    "import plotly.subplots as ps\n",
    "import plotly.graph_objects as go\n",
    "import folium as fl  # for geoviz\n",
    "from folium.plugins import MarkerCluster\n",
    "from folium.plugins import MousePosition"
   ]
  },
  {
   "cell_type": "code",
   "execution_count": null,
   "metadata": {},
   "outputs": [],
   "source": [
    "# Read csv file to pandas DataFrame\n",
    "# We will call it Metorite DataFrame (mdf)\n",
    "mdf = pd.read_csv('meteorite-landings.csv')\n",
    "mdf.shape"
   ]
  },
  {
   "cell_type": "code",
   "execution_count": null,
   "metadata": {},
   "outputs": [],
   "source": [
    "mdf.head()"
   ]
  },
  {
   "cell_type": "markdown",
   "metadata": {},
   "source": [
    "### 1. Data cleaning\n",
    "Information about dataset:\n",
    " - ***name***: the name of the meteorite (typically a location, often modified with a number, year, composition, etc)  \n",
    " - ***id***: a unique identifier for the meteorite\n",
    " - ***nametype***: one of:\n",
    "    - *valid*: a typical meteorite\n",
    "    - *relict*: a meteorite that has been highly degraded by weather on Earth\n",
    " - ***recclass***: the class of the meteorite; one of a large number of classes based on physical, chemical, and other characteristics (see the Wikipedia article on meteorite classification for a primer)\n",
    " - ***mass***: the mass of the meteorite, in grams\n",
    " - ***fall***: whether the meteorite was seen falling, or was discovered after its impact; one of:\n",
    "    - *Fell*: the meteorite's fall was observed\n",
    "    - *Found*: the meteorite's fall was not observed\n",
    " - ***year***: the year the meteorite fell, or the year it was found (depending on the value of fell)\n",
    " - ***reclat***: the latitude of the meteorite's landing\n",
    " - ***reclong***: the longitude of the meteorite's landing\n",
    " - ***GeoLocation***: a parentheses-enclose, comma-separated tuple that combines reclat and reclong"
   ]
  },
  {
   "cell_type": "code",
   "execution_count": null,
   "metadata": {},
   "outputs": [],
   "source": [
    "# Check for missing values\n",
    "mdf.isnull().sum()"
   ]
  },
  {
   "cell_type": "code",
   "execution_count": null,
   "metadata": {},
   "outputs": [],
   "source": [
    "mdf['GeoLocation'].value_counts()"
   ]
  },
  {
   "cell_type": "code",
   "execution_count": null,
   "metadata": {},
   "outputs": [],
   "source": [
    "# What will we do with missing coordinates?\n",
    "# There is a lot of coordiantes (0, 0) so they also should be treated as missing values\n",
    "# so lets assign (0, 0) to all missing values to group all of them together\n",
    "mdf.loc[mdf['GeoLocation'].isnull(), 'reclat'] = 0\n",
    "mdf.loc[mdf['GeoLocation'].isnull(), 'reclong'] = 0\n",
    "\n",
    "# Fill in GeoLocation\n",
    "mdf.loc['GeoLocation'] = mdf[['reclat', 'reclong']].apply(tuple, axis = 1)\n",
    "\n",
    "# Drop rows with missing values for year and mass column\n",
    "mdf.dropna(inplace=True, axis=0)"
   ]
  },
  {
   "cell_type": "code",
   "execution_count": null,
   "metadata": {},
   "outputs": [],
   "source": [
    "mdf.isnull().sum()"
   ]
  },
  {
   "cell_type": "code",
   "execution_count": null,
   "metadata": {},
   "outputs": [],
   "source": [
    "# Check for duplicates\n",
    "mdf.duplicated().sum()"
   ]
  },
  {
   "cell_type": "code",
   "execution_count": null,
   "metadata": {},
   "outputs": [],
   "source": [
    "# Check for odd values\n",
    "mdf.describe()"
   ]
  },
  {
   "cell_type": "markdown",
   "metadata": {},
   "source": [
    "From the table above we see, that we have wierd years in our dataset, for example 2101. Lets filter them out (dataset is from 2016), we also will be interested only in relatively recent data, this why we will filter out the years before 1800."
   ]
  },
  {
   "cell_type": "code",
   "execution_count": null,
   "metadata": {},
   "outputs": [],
   "source": [
    "# Filter out weird years\n",
    "mdf = mdf[(mdf['year'] <= 2016) & (mdf['year'] >= 1800)]\n",
    "\n",
    "# Filter out weird locations\n",
    "mdf = mdf[(mdf['reclat'] <= 180) & (mdf['reclat'] >= -180)]"
   ]
  },
  {
   "cell_type": "code",
   "execution_count": null,
   "metadata": {},
   "outputs": [],
   "source": [
    "# Lets transform mass from grams to kg\n",
    "mdf['mass'] = mdf['mass']/1000"
   ]
  },
  {
   "cell_type": "code",
   "execution_count": null,
   "metadata": {},
   "outputs": [],
   "source": [
    "# How many unique meteorite classes we have in our dataset\n",
    "len(mdf['recclass'].unique())"
   ]
  },
  {
   "cell_type": "markdown",
   "metadata": {},
   "source": [
    "So we have 422 unique classes of meteorites, we can't deal with it. If explore more ([Wikipedia](https://en.wikipedia.org/wiki/Meteorite_classification)) we will find that meteorites can  be distributed into 3 larger groups:\n",
    "1. Stony;\n",
    "2. Stony-iron;\n",
    "3. Iron.\n",
    "\n",
    "So lets redistribute our data to this groups.\n",
    "![Meteorite_class](Meteorite_Classification_after_Weissberg_McCoy_Krot_2006_Stony_Iron.png)"
   ]
  },
  {
   "cell_type": "code",
   "execution_count": null,
   "metadata": {},
   "outputs": [],
   "source": [
    "# One can notice that names of all classes from Iron group start with I\n",
    "# Lets add a new column 'recgroup' \n",
    "mdf.loc[mdf['recclass'].str.startswith('I'), 'recgroup'] = 'Iron'\n",
    "\n",
    "# All Stony group classes start with L, C, H, R, E, K. We also can see that all martian meteorites are stony ones\n",
    "stony_letters = ('L', 'C', 'H', 'R', 'E', 'K')\n",
    "mdf.loc[mdf['recclass'].str.startswith(stony_letters), 'recgroup'] = 'Stony'\n",
    "mdf.loc[mdf['recclass'].str.startswith('Martian'), 'recgroup'] = 'Stony'\n",
    "mdf.loc[mdf['recclass'].str.startswith('Stone'), 'recgroup'] = 'Stony'\n",
    "\n",
    "# Stony-iron group consists only of Mesosiderite and Pallasite\n",
    "mdf.loc[mdf['recclass'].str.startswith('Mesosiderite'), 'recgroup'] = 'Stony-iron'\n",
    "mdf.loc[mdf['recclass'].str.startswith('Pallasite'), 'recgroup'] = 'Stony-iron'"
   ]
  },
  {
   "cell_type": "code",
   "execution_count": null,
   "metadata": {},
   "outputs": [],
   "source": [
    "# How many values left ungrouped?\n",
    "mdf.isnull().sum()"
   ]
  },
  {
   "cell_type": "code",
   "execution_count": null,
   "metadata": {},
   "outputs": [],
   "source": [
    "# From what classes they are?\n",
    "mdf[mdf['recgroup'].isnull()]['recclass'].unique()"
   ]
  },
  {
   "cell_type": "markdown",
   "metadata": {},
   "source": [
    "Not so many classes left ungrouped, lets figure them out.\n",
    " - **Acapulcoite**, **Angrite**, **Aubrite**, **Diogenite**, **Brachinite**, **Ureilite**, **Winonaite** are from Stony group;\n",
    " - **Fusion crust**, **OC**, **Achondrite-prim**, **Achondrite-ung** can't be grouped.\n"
   ]
  },
  {
   "cell_type": "code",
   "execution_count": null,
   "metadata": {},
   "outputs": [],
   "source": [
    "stony = ('Acapulcoite', 'Angrite', 'Aubrite', 'Diogenite', 'Brachinite', 'Ureilite', 'Winonaite')\n",
    "mdf.loc[mdf['recclass'].str.startswith(stony), 'recgroup'] = 'Stony'\n"
   ]
  },
  {
   "cell_type": "code",
   "execution_count": null,
   "metadata": {},
   "outputs": [],
   "source": [
    "# How many left ungrouped in percantage\n",
    "ungrouped_perc = mdf['recgroup'].isnull().sum()/mdf.shape[0]*100\n",
    "ungrouped_perc"
   ]
  },
  {
   "cell_type": "markdown",
   "metadata": {},
   "source": [
    "Only around 0.3% left ungrouped, this is great!  Lets mark them as 'Unknown'."
   ]
  },
  {
   "cell_type": "code",
   "execution_count": null,
   "metadata": {},
   "outputs": [],
   "source": [
    "unknown = ('Fusion crust', 'OC', 'Achondrite-prim', 'Achondrite-ung')\n",
    "mdf.loc[mdf['recclass'].str.startswith(unknown), 'recgroup'] = 'Unknown'"
   ]
  },
  {
   "cell_type": "code",
   "execution_count": null,
   "metadata": {},
   "outputs": [],
   "source": [
    "# Check if we missed something\n",
    "mdf.isnull().sum()"
   ]
  },
  {
   "cell_type": "markdown",
   "metadata": {},
   "source": [
    "### 2. EDA with visualization\n",
    "After the dataset was cleaned let's visualize the data to better understand what we have."
   ]
  },
  {
   "cell_type": "code",
   "execution_count": null,
   "metadata": {},
   "outputs": [],
   "source": [
    "# How many meteorites in each group?\n",
    "group_count = mdf['recgroup'].value_counts()\n",
    "sns.barplot(x = group_count.index, y = group_count)\n",
    "plt.xlabel(\"Meteorite groups\")\n",
    "plt.ylabel('Number of meteorites')\n",
    "plt.title('Group count')\n",
    "plt.show()"
   ]
  },
  {
   "cell_type": "markdown",
   "metadata": {},
   "source": [
    "As one can see from this bar plot, most of the meteorites are from the Stony group, a few from the Iron group, and even fewer from the Stony-iron group."
   ]
  },
  {
   "cell_type": "code",
   "execution_count": null,
   "metadata": {},
   "outputs": [],
   "source": [
    "# Count number of falls per year\n",
    "number_of_falls = mdf[['year']].groupby('year', as_index=False).value_counts()\n",
    "number_of_falls"
   ]
  },
  {
   "cell_type": "code",
   "execution_count": null,
   "metadata": {},
   "outputs": [],
   "source": [
    "# Firstly, we want to see yearly destribution\n",
    "sns.lineplot(data = number_of_falls, x = 'year', y = 'count')\n",
    "plt.ylabel('Falls per year')\n",
    "plt.xlabel('Year')\n",
    "plt.title('Yearly destribution of falls')\n",
    "plt.show()"
   ]
  },
  {
   "cell_type": "markdown",
   "metadata": {},
   "source": [
    "We see that the number of falls increased significantly, starting around 1960. One possible explanation could be the fact that we have become better at detecting meteorites due to the development of communication technology."
   ]
  },
  {
   "cell_type": "code",
   "execution_count": null,
   "metadata": {},
   "outputs": [],
   "source": [
    "# Now, lets look at mass destribution\n",
    "sns.scatterplot(data = mdf, x = 'mass', y = 'id', hue = 'fall', size=.01)\n",
    "plt.xscale('log')\n",
    "plt.ylabel('Meteorite id')\n",
    "plt.xlabel('Mass, (kg)')\n",
    "plt.title('Mass scatter')\n",
    "plt.show()"
   ]
  },
  {
   "cell_type": "markdown",
   "metadata": {},
   "source": [
    "We see that most meteorites have a mass in range from few grams to few kg. Furthermore, the dominant part was found without being seen falling."
   ]
  },
  {
   "cell_type": "code",
   "execution_count": null,
   "metadata": {},
   "outputs": [],
   "source": [
    "# Lets plot mass destribution\n",
    "sns.histplot(data = mdf[mdf['mass'] <= 10], x = 'mass', bins=100)\n",
    "plt.xscale('log')\n",
    "plt.xlabel('Mass, (kg)')\n",
    "plt.title('Mass destribution (for < 10kg)')\n",
    "plt.show()"
   ]
  },
  {
   "cell_type": "markdown",
   "metadata": {},
   "source": [
    "From this histogram we see that most meteorites have mass smaller than 100g. "
   ]
  },
  {
   "cell_type": "code",
   "execution_count": null,
   "metadata": {},
   "outputs": [],
   "source": [
    "px.pie(names=['Non-observed', 'Observed'], \n",
    "       values=mdf[['fall']].value_counts(), \n",
    "       title='Meteorite fall percantage %')"
   ]
  },
  {
   "cell_type": "markdown",
   "metadata": {},
   "source": [
    "As mentioned previously, the fall of over 97% of all found meteorites was not observed."
   ]
  },
  {
   "cell_type": "code",
   "execution_count": null,
   "metadata": {},
   "outputs": [],
   "source": [
    "mdf['nametype'].value_counts()"
   ]
  },
  {
   "cell_type": "code",
   "execution_count": null,
   "metadata": {},
   "outputs": [],
   "source": [
    "px.pie(mdf[['nametype']].value_counts(), \n",
    "       names = list(mdf['nametype'].value_counts().index), \n",
    "       values = 'count', title = 'Valid vs Relict')"
   ]
  },
  {
   "cell_type": "markdown",
   "metadata": {},
   "source": [
    "Almost all meteorites were found before they can be degraded by weather conditions. This could be due to several reasons. For one, they were found not long after the fall or their landing area provided the shelter from weathering. But clear answer requires further investigation."
   ]
  },
  {
   "cell_type": "code",
   "execution_count": null,
   "metadata": {},
   "outputs": [],
   "source": [
    "# Now lets see where meteorites were found on map\n",
    "# Firstly, we will start with creating a terrain map\n",
    "meteorite_map = fl.Map(location=[0, 0], tiles=\"Stamen Terrain\", zoom_start=2.4)\n",
    "\n",
    "# Marker for each meteorite, it displays Year, coordinates and meteorite class\n",
    "locations = list(mdf[['reclat','reclong']].set_index('reclat').itertuples())\n",
    "popups = [f\"Date: {int(date)}, coordinates: ({lat}, {long}), Meteorite class: {mtype}\" \n",
    "          for (date, lat, long, mtype) \n",
    "          in mdf[['year', 'reclat', 'reclong', 'recclass']].set_index('year').itertuples()]\n",
    "marker_cluster = MarkerCluster(locations=locations, popups=popups).add_to(meteorite_map)"
   ]
  },
  {
   "cell_type": "code",
   "execution_count": null,
   "metadata": {},
   "outputs": [],
   "source": [
    "# Lets add mouse posiition to help investigate meteorites locations\n",
    "formatter = \"function(num) {return L.Util.formatNum(num, 5);};\"\n",
    "mouse_position = MousePosition(\n",
    "    position='topright',\n",
    "    separator=' Long: ',\n",
    "    empty_string='NaN',\n",
    "    lng_first=False,\n",
    "    num_digits=20,\n",
    "    prefix='Lat:',\n",
    "    lat_formatter=formatter,\n",
    "    lng_formatter=formatter,\n",
    ").add_to(meteorite_map)\n"
   ]
  },
  {
   "cell_type": "code",
   "execution_count": null,
   "metadata": {},
   "outputs": [],
   "source": [
    "meteorite_map"
   ]
  },
  {
   "cell_type": "markdown",
   "metadata": {},
   "source": [
    "Surprisingly enough, from the map above, we can see that Antarctica has the highest number of found meteorites (if we exclude meteorites with (0,0) coordinates), and they were discovered in three locations. If we investigate further, we will find that these locations are:\n",
    " 1. Queen Alexandra Range\n",
    " 2. Yamato Glacier\n",
    " 3. Grove Mountains\n",
    "\n",
    "Why is that? One [article](https://www.geographyrealm.com/why-are-there-more-meteorites-in-antarctica/) suggests:       \n",
    "\"Meteorites in Antarctica are more visible because the environmental conditions are favorable for the preservation and retrieval of these space rocks. The arid and cold Antarctic environment helps to preserve these rocks. ... In addition, researchers have identified meteorite hotspots known as “meteorite stranding zones”. These are areas where the local geology, the flow of the ice, and climate conditions promote the aggregation of meteorites at the surface of the blue ice.\""
   ]
  },
  {
   "cell_type": "markdown",
   "metadata": {},
   "source": [
    "![Antarctica meteorite map](map-antarctic-meteorites-2022-nasa.png)  "
   ]
  },
  {
   "cell_type": "markdown",
   "metadata": {},
   "source": [
    "From this picture from NASA ([link](https://earthobservatory.nasa.gov/images/149554/finding-meteorite-hotspots-in-antarctica)) we see that meteorites are mostly found in a mountain area."
   ]
  },
  {
   "cell_type": "code",
   "execution_count": null,
   "metadata": {},
   "outputs": [],
   "source": [
    "# Lets verify our assumption about location names using our dataset\n",
    "# 'name' column in the dataset contains location names, lets extract them\n",
    "to_replace = ['0', '1', '2', '3', '4', '5', '6', '7', '8', '9', '(', ')', ' ']\n",
    "for char_replace in to_replace:\n",
    "    mdf['name'] = mdf['name'].str.replace(char_replace, '')\n",
    "mdf['name'] = mdf['name'].str.lower()\n",
    "top_names = mdf['name'].value_counts().head(20)"
   ]
  },
  {
   "cell_type": "code",
   "execution_count": null,
   "metadata": {},
   "outputs": [],
   "source": [
    "# Top 20 names in the dataset\n",
    "plt.figure(figsize=(10,10))\n",
    "ax = sns.barplot(x = top_names.index, y = top_names)\n",
    "ax.set_xticklabels(ax.get_xticklabels(), rotation=45, horizontalalignment='right')\n",
    "plt.xlabel('Names')\n",
    "plt.ylabel('')\n",
    "plt.title('Top 20 meteorite names')\n",
    "plt.show()"
   ]
  },
  {
   "cell_type": "markdown",
   "metadata": {},
   "source": [
    "Bar plot above confirmes our suggestion. Indeed, 3 in a top 4 locations are from Antarctica: Yamato, Queen Alexandra Range and Grove Mountains. Furthermore, fifth name from Antarctica as well, Elephant Moraine located near Ross Ice Shelf. Lets mark this four locations on the map."
   ]
  },
  {
   "cell_type": "code",
   "execution_count": null,
   "metadata": {},
   "outputs": [],
   "source": [
    "# Antarctica map creation with markers\n",
    "antarctica_map = fl.Map(location=(-73.913347, 67.28871), tiles=\"Stamen Terrain\", zoom_start=3)\n",
    "\n",
    "# Adds markers for top 4 meteorite locations\n",
    "top_loc = {'Yamato Glacier': (-71.416667, 35.583333), \n",
    "           'Queen Alexandra Range': (-84, 168), \n",
    "           'Grove Mountains': (-72.75, 75), \n",
    "           'Elephant Moraine': (-76.283333, 157.333333)}\n",
    "for loc in top_loc.keys():\n",
    "    fl.Marker(location=top_loc[loc], \n",
    "              popup = loc, \n",
    "              icon = fl.Icon(color = 'red')).add_to(antarctica_map)\n",
    "\n",
    "# Adds markers for each meteorite found in Antarctica      \n",
    "locations = list(mdf[mdf['reclat'] <= -68][['reclat','reclong']].set_index('reclat').itertuples())\n",
    "popups = [f\"Date: {int(date)}, coordinates: ({lat}, {long}), Meteorite class: {mtype}\" \n",
    "          for (date, lat, long, mtype)\n",
    "          in mdf[mdf['reclat'] <= -68][['year', 'reclat', 'reclong', 'recclass']].set_index('year').itertuples()]\n",
    "\n",
    "antarctic_markers = MarkerCluster(locations=locations, popups=popups).add_to(antarctica_map)"
   ]
  },
  {
   "cell_type": "code",
   "execution_count": null,
   "metadata": {},
   "outputs": [],
   "source": [
    "antarctica_map"
   ]
  },
  {
   "cell_type": "code",
   "execution_count": null,
   "metadata": {},
   "outputs": [],
   "source": [
    "# Are there any difference in a group meteorites found in Antarctica? Or there is more meteorites of a one kind?\n",
    "plt.figure(figsize=(12,10))\n",
    "ant_met = mdf[mdf['reclat'] <= -68]['recgroup'].value_counts()\n",
    "sns.barplot(x = ant_met.index, y = ant_met)\n",
    "plt.xlabel('Meteorite groups')\n",
    "plt.ylabel('Number of meteorites')\n",
    "plt.title('Groups distribution in Antarctica')\n",
    "plt.show()"
   ]
  },
  {
   "cell_type": "markdown",
   "metadata": {},
   "source": [
    "It doesn't seem to be any difference in group distribution. Most of the meteorites are from the Stony group, but let's compare numbers side by side."
   ]
  },
  {
   "cell_type": "code",
   "execution_count": null,
   "metadata": {},
   "outputs": [],
   "source": [
    "fig = ps.make_subplots(rows = 1, cols = 2, specs=[[{\"type\": \"domain\"}, {\"type\": \"domain\"}]])\n",
    "\n",
    "fig.add_trace(go.Pie(labels = ant_met.index, values = ant_met, \n",
    "       title = 'Antarctica',\n",
    "       hole = .4\n",
    "       ), row = 1, col = 1)\n",
    "\n",
    "fig.add_trace(go.Pie(labels = group_count.index, values = group_count,\n",
    "       title = 'World',\n",
    "       hole = .4\n",
    "       ), row = 1, col = 2)\n",
    "fig.update_layout(title_text = 'Group distribution: Antarctica vs World')"
   ]
  },
  {
   "cell_type": "markdown",
   "metadata": {},
   "source": [
    "In this comparison, we see that there is a difference in meteorites found in Antarctica compared to the rest of the world. More than 99% are from the Stony group, whereas in the world, the total is around 97%. However, the largest difference is in the Iron group, with 0.58% in Antarctica compared to 2.23% worldwide."
   ]
  },
  {
   "cell_type": "code",
   "execution_count": null,
   "metadata": {},
   "outputs": [],
   "source": [
    "mdf.dtypes"
   ]
  },
  {
   "cell_type": "code",
   "execution_count": null,
   "metadata": {},
   "outputs": [],
   "source": [
    "# Extracts numeric columns and converts fall and recgroup to numeric\n",
    "mdf_num = pd.get_dummies(data = mdf, columns = ['fall', 'recgroup'])\n",
    "mdf_num.drop(['name', 'id', 'nametype', 'recclass', 'GeoLocation'], axis=1, inplace = True)"
   ]
  },
  {
   "cell_type": "code",
   "execution_count": null,
   "metadata": {},
   "outputs": [],
   "source": [
    "corr_matrix = mdf_num.corr()\n",
    "fig = plt.figure(figsize = (12,10))\n",
    "sns.heatmap(data = corr_matrix, annot = True)\n",
    "plt.show()\n"
   ]
  },
  {
   "cell_type": "markdown",
   "metadata": {},
   "source": [
    "Except for the obvious anti-correlation between dummies from the 'recgroup' column, we can see some notable correlations between the columns 'recgroup_Iron', 'recgroup_Stony', 'fall_Found', 'fall_Fell', and 'year', 'reclat'. So let's investigate this correlations further."
   ]
  },
  {
   "cell_type": "code",
   "execution_count": null,
   "metadata": {},
   "outputs": [],
   "source": [
    "# We will start with correlations between 'year' and 'recgroup' columns\n",
    "year_group = mdf[['year', 'recgroup']]\n",
    "fig, axes = plt.subplots(2,1, figsize = (12,10))\n",
    "sns.histplot(data = year_group[year_group['recgroup']=='Stony'], x = 'year', hue = 'recgroup', ax = axes[0], kde = True)\n",
    "sns.histplot(data = year_group[year_group['recgroup']!='Stony'], x = 'year', hue = 'recgroup', ax = axes[1], kde = True)\n",
    "plt.show()"
   ]
  },
  {
   "cell_type": "markdown",
   "metadata": {},
   "source": [
    "As seen in the pictures above, the correlation between the columns 'year' and 'recgroup' is obvious. With time, the number of meteorites found increases, as does the number of meteorites in each group. Interestingly enough, the number of meteorites in the Iron group remains pretty steady."
   ]
  },
  {
   "cell_type": "code",
   "execution_count": null,
   "metadata": {},
   "outputs": [],
   "source": [
    "# Now lets look at the correlation between columns 'year' and 'fall'\n",
    "fall_group = mdf[['year', 'fall']]\n",
    "fig, axes = plt.subplots(2,1, figsize = (12,10))\n",
    "sns.histplot(data = fall_group[fall_group['fall'] == 'Found'], x = 'year', ax = axes[0], kde = True)\n",
    "sns.histplot(data = fall_group[fall_group['fall'] == 'Fell'], x = 'year', ax = axes[1], kde = True)\n",
    "axes[0].set_title('Non-observed meteorites distribution')\n",
    "axes[1].set_title('Observed meteorites distribution')\n",
    "plt.show()"
   ]
  },
  {
   "cell_type": "markdown",
   "metadata": {},
   "source": [
    "Here we see the same situation where the number of meteorites found increases with time, creating a correlation between these two columns. Another interesting observation is that number of observed meteorites doesn't increase that much with time.\n",
    "\n",
    "This leads to a question: Do the distribution patterns of meteorite groups for observed meteorites differ from those of non-observed ones? Lets figure this out!"
   ]
  },
  {
   "cell_type": "code",
   "execution_count": null,
   "metadata": {},
   "outputs": [],
   "source": [
    "# Firstly, we separate observed and non-observed meteorites\n",
    "fell_met = mdf[mdf['fall'] == 'Fell']['recgroup'].value_counts()\n",
    "found_met = mdf[mdf['fall'] == 'Found']['recgroup'].value_counts()\n",
    "\n",
    "# Secondly, lets look at numbers by plotting a pie-charts for each one\n",
    "fig = ps.make_subplots(rows = 1, cols = 2, specs=[[{\"type\": \"domain\"}, {\"type\": \"domain\"}]])\n",
    "\n",
    "fig.add_trace(go.Pie(labels = fell_met.index, values = fell_met, \n",
    "       title = 'Observed',\n",
    "       hole = .4\n",
    "       ), row = 1, col = 1)\n",
    "\n",
    "fig.add_trace(go.Pie(labels = found_met.index, values = found_met,\n",
    "       title = 'Non-observed',\n",
    "       hole = .4\n",
    "       ), row = 1, col = 2)\n",
    "fig.update_layout(title_text = 'Group distribution: Observed vs Non-observed')"
   ]
  },
  {
   "cell_type": "markdown",
   "metadata": {},
   "source": [
    "We observe no significant difference in the group distribution between observed and non-observed meteorites. In both cases, over 90% belong to the Stony group. However, the percentage of observed meteorites from the Iron group is higher – 4.42% compared to 2.19% for non-observed meteorites."
   ]
  },
  {
   "cell_type": "markdown",
   "metadata": {},
   "source": [
    "We have investigated correlations concerning the 'year' column. Now, let's shift our focus to the 'reclat' column."
   ]
  },
  {
   "cell_type": "code",
   "execution_count": null,
   "metadata": {},
   "outputs": [],
   "source": [
    "mdf['GeoLocation'].value_counts()"
   ]
  },
  {
   "cell_type": "code",
   "execution_count": null,
   "metadata": {},
   "outputs": [],
   "source": [
    "# Connection between 'reclat' and 'recgroup' columns\n",
    "#reclat_group = mdf[mdf['GeoLocation'] != (0.0,0.0)][['reclat', 'recgroup']]\n",
    "reclat_group = mdf[(mdf[['reclat', 'reclong']].apply(tuple, axis=1) != (0.0, 0.0))][['reclat', 'recgroup']]\n",
    "fig, axes = plt.subplots(2,1, figsize = (12,10))\n",
    "sns.histplot(data = reclat_group[year_group['recgroup']=='Stony'], x = 'reclat', hue = 'recgroup', ax = axes[0], kde = True)\n",
    "sns.histplot(data = reclat_group[year_group['recgroup']!='Stony'], x = 'reclat', hue = 'recgroup', ax = axes[1], kde = True)\n",
    "axes[0].set_xlabel('Latitude')\n",
    "axes[1].set_xlabel('Latitude')\n",
    "plt.show()"
   ]
  },
  {
   "cell_type": "code",
   "execution_count": null,
   "metadata": {},
   "outputs": [],
   "source": []
  }
 ],
 "metadata": {
  "kernelspec": {
   "display_name": "Python 3",
   "language": "python",
   "name": "python3"
  },
  "language_info": {
   "codemirror_mode": {
    "name": "ipython",
    "version": 3
   },
   "file_extension": ".py",
   "mimetype": "text/x-python",
   "name": "python",
   "nbconvert_exporter": "python",
   "pygments_lexer": "ipython3",
   "version": "3.11.3"
  },
  "orig_nbformat": 4
 },
 "nbformat": 4,
 "nbformat_minor": 2
}
